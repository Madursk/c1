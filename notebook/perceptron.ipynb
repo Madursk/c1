{
 "cells": [
  {
   "cell_type": "markdown",
   "metadata": {},
   "source": [
    "<script type=\"text/x-mathjax-config\">\n",
    "MathJax.Hub.Config({\n",
    "  TeX: { equationNumbers: { autoNumber: \"all\" } }\n",
    "});\n",
    "</script>\n",
    "\n",
    "<h1 align=center>Redes Neuronales Artificiales</h1>\n",
    "<h3 align=center>19 Febrero 2018</h3>\n",
    "<h4 align=center>Dr. Eduardo Ulises Moya</h4>\n",
    "<h4 align=center>Ing. Abraham Sánchez</h4>\n",
    "### Tabla de contenido:\n",
    "<ul>\n",
    "    <li><p><a href=\"#ref1\">**1. Neuróna Biológica**</a></p></li>\n",
    "    <ul>\n",
    "        <li><p><a href=\"#ref1_1\">1.1. Elementos de una neuróna biológica</a></p></li>\n",
    "    </ul>\n",
    "    <li><p><a href=\"#ref2\">**2. Neuróna Artificial**</a></p></li>\n",
    "    <ul>\n",
    "        <li><p><a href=\"#ref2_1\">2.1. Elementos de una neuróna artificial</a></p></li>\n",
    "        <li><p><a href=\"#ref2_2\">2.2. Funciones de activación</a></p></li>\n",
    "    </ul>\n",
    "    <li><p><a href=\"#ref3\">**3. Modelo**</a></p></li>\n",
    "    <ul>\n",
    "        <li><p><a href=\"#ref3_1\">3.1. Modelo matemático</a></p></li>\n",
    "        <li><p><a href=\"#ref3_2\">3.2. Etapa de aprendizaje</a></p></li>\n",
    "    </ul>\n",
    "    <li><p><a href=\"#ref4\">**4. Perceptrón**</a></p></li>\n",
    "    <ul>\n",
    "        <li><p><a href=\"#ref4_1\">Ejemplo</a></p></li>\n",
    "    </ul>\n",
    "    <li><p><a href=\"#ref5\">**5. Backpropagation**</a></p></li>\n",
    "    <ul>\n",
    "        <li><p><a href=\"#ref5_1\">5.1 Etapa hacia adelante (Feedforward)</a></p></li>\n",
    "        <li><p><a href=\"#ref5_2\">5.2 Etapa hacia atrás (Backpropagation)</a></p></li>\n",
    "        <li><p><a href=\"#ref5_3\">Ejemplo</a></p></li>\n",
    "    </ul>\n",
    "</ul>"
   ]
  },
  {
   "cell_type": "markdown",
   "metadata": {},
   "source": [
    "<a id=\"ref1\"></a>\n",
    "<h2>**1. Neuróna Biológica**</h2>"
   ]
  },
  {
   "cell_type": "markdown",
   "metadata": {},
   "source": [
    "Una red neuronal se define como una población de neuronas físicamente interconectadas \n",
    "o un grupo de neuronas aisladas que reciben señales que procesan a la manera de un \n",
    "circuito reconocible.\n",
    "\n",
    "La comunicación entre neuronas, que implica un proceso electroquímico, implica que, \n",
    "una vez que una neurona es excitada a partir de cierto umbral, ésta se despolariza \n",
    "transmitiendo a través de su axón una señal que excita a neuronas aledañas, y así \n",
    "sucesivamente.\n",
    "\n",
    "Las neuronas tienen tres componentes principales: las dendritas, el cuerpo de la célula\n",
    "o soma y el axón."
   ]
  },
  {
   "cell_type": "markdown",
   "metadata": {},
   "source": [
    "<a id=\"ref1_1\"></a>\n",
    "<h3>**1.1. Elementos de una neuróna biológica**</h3>"
   ]
  },
  {
   "cell_type": "markdown",
   "metadata": {},
   "source": [
    "- **Dendritas.** Elemento receptor; son como fibras nerviosas que cargan de señales eléctricas al cuerpo de la célula; durante el crecimiento aumenta el número de dendritas, pero luego predomina la especialización.\n",
    "- **Soma.** Realiza la suma de esas señales. Incluye el núcleo, es donde principalmente se produce la energía.\n",
    "- **Axón.** Es una fibra larga que lleva la señal desde el cuerpo de la célula hacia otras. El punto de contacto entre el axón de una célula y la dendrita de otra es llamado sinapsis."
   ]
  },
  {
   "cell_type": "markdown",
   "metadata": {},
   "source": [
    "<a id=\"ref2\"></a>\n",
    "<h2>**2. Neuróna Artificial**</h2>"
   ]
  },
  {
   "cell_type": "markdown",
   "metadata": {},
   "source": [
    "El modelo de una neurona artificial es una imitación del proceso de una neurona biológica. Una neurona artificial es la unidad fundamental para la operación de una red neuronal artificial."
   ]
  },
  {
   "cell_type": "markdown",
   "metadata": {},
   "source": [
    "<a id=\"ref2_2\"></a>\n",
    "<h3>**2.2. Funciones de activación**</h3>"
   ]
  },
  {
   "cell_type": "markdown",
   "metadata": {},
   "source": [
    "Las funciones de activación, denotadas por  $\\varphi(.)$, definen la salida de la neurona."
   ]
  },
  {
   "cell_type": "markdown",
   "metadata": {},
   "source": [
    "<h4>Función escalón</h4>\n",
    "\\begin{equation}\n",
    "\\varphi(v) =\n",
    "  \\begin{cases}\n",
    "    1       & \\quad \\text{if } v >= 0\\\\\n",
    "    0       & \\quad \\text{if } v < 0\n",
    "  \\end{cases}\n",
    "\\end{equation}"
   ]
  },
  {
   "cell_type": "code",
   "execution_count": 1,
   "metadata": {},
   "outputs": [
    {
     "data": {
      "image/png": "[encoded data removed]",
      "text/plain": [
       "<matplotlib.figure.Figure at 0x7ff75c248da0>"
      ]
     },
     "metadata": {},
     "output_type": "display_data"
    }
   ],
   "source": [
    "import numpy as np\n",
    "import matplotlib.pyplot as plt\n",
    "\n",
    "# Step function\n",
    "def step(v):\n",
    "    v = v >= 0\n",
    "    return v*1\n",
    "\n",
    "l = np.array(np.arange(-10, 10, 0.1))\n",
    "\n",
    "plt.plot(l, step(l))\n",
    "plt.grid()\n",
    "plt.show()"
   ]
  },
  {
   "cell_type": "markdown",
   "metadata": {},
   "source": [
    "<h4>Función sigmoidal</h4>\n",
    "\\begin{equation}\n",
    "\\varphi(v) = \\frac{1}{1+e^-v}\n",
    "\\end{equation}"
   ]
  },
  {
   "cell_type": "code",
   "execution_count": 2,
   "metadata": {},
   "outputs": [
    {
     "data": {
      "image/png": "[encoded data removed]",
      "text/plain": [
       "<matplotlib.figure.Figure at 0x7ff75c2001d0>"
      ]
     },
     "metadata": {},
     "output_type": "display_data"
    }
   ],
   "source": [
    "import numpy as np\n",
    "import matplotlib.pyplot as plt\n",
    "\n",
    "# Sigmoid function\n",
    "def sigmoid(z):\n",
    "    return 1/(1 + np.exp(-z))\n",
    "\n",
    "l = np.array(np.arange(-10, 10, 0.1))\n",
    "f = sigmoid(l)\n",
    "\n",
    "plt.plot(l, sigmoid(l))\n",
    "plt.grid()\n",
    "plt.show()"
   ]
  },
  {
   "cell_type": "markdown",
   "metadata": {},
   "source": [
    "<h4>Función ReLU</h4>\n",
    "\\begin{equation}\n",
    "\\varphi(v) = max(0,v)\n",
    "\\end{equation}"
   ]
  },
  {
   "cell_type": "code",
   "execution_count": 3,
   "metadata": {},
   "outputs": [
    {
     "data": {
      "image/png": "[encoded data removed]",
      "text/plain": [
       "<matplotlib.figure.Figure at 0x7ff6ffa409e8>"
      ]
     },
     "metadata": {},
     "output_type": "display_data"
    }
   ],
   "source": [
    "import numpy as np\n",
    "import matplotlib.pyplot as plt\n",
    "import math\n",
    "\n",
    "def relu(v):\n",
    "    return v*(v>0)\n",
    "\n",
    "l = np.array(np.arange(-10, 10, 0.1))\n",
    "\n",
    "plt.plot(l, relu(l))\n",
    "plt.grid()\n",
    "plt.show()"
   ]
  },
  {
   "cell_type": "markdown",
   "metadata": {},
   "source": [
    "<a id=\"ref2_1\"></a>\n",
    "<h3>**2.1. Elementos de una neuróna artificial**</h3>"
   ]
  },
  {
   "cell_type": "markdown",
   "metadata": {},
   "source": [
    "Basándose en el modelo biológico, se encuentran las siguientes analogías con el\n",
    "sistema artificial:\n",
    "- **Entradas** $X_i$. Representa las señales provenientes de otras neuronas, captadas por la dendritas.\n",
    "- **Pesos** $W_i$. Representa la intensidad de la sinapsis que conecta dos neuronas. - **Umbral** $\\theta$. Función umbral que la señal de la neurona debe sobrepasar para activarse (ocurre biológicamente en el cuerpo de la célula).\n",
    "- **Salida** $y_i$. Valor de salida de la neurona."
   ]
  },
  {
   "cell_type": "markdown",
   "metadata": {},
   "source": [
    "<a id=\"ref3\"></a>\n",
    "<h2>**3. Modelo**</h2>"
   ]
  },
  {
   "cell_type": "markdown",
   "metadata": {},
   "source": [
    "La neurona es la unidad de proceso de información fundamental en una red neuronal y su básico modelo se compone de lo siguiente:\n",
    "<br>\n",
    "- **Enlaces de conexión**. Parametrizados por los pesos sinápticos $𝑊_𝑖$. Si $𝑊_𝑖 > 0$ entonces la conexión es excitadora así mismo si $𝑊_𝑖 < 0$ la conexión es inhibidora.\n",
    "- **Sumador**. Suma los componentes de las señales de entrada multiplicadas por $𝑊_𝑖$.\n",
    "- **Función de activación (Umbral)**. Transformación no lineal."
   ]
  },
  {
   "cell_type": "markdown",
   "metadata": {},
   "source": [
    "<a id=\"ref3_1\"></a>\n",
    "<h3>**3.1. Modelo matemático**</h3>"
   ]
  },
  {
   "cell_type": "markdown",
   "metadata": {},
   "source": [
    "En términos matemáticos, es posible describir la neurona n de la figura anterior, por el siguiente par de ecuaciones.\n",
    "\n",
    "\\begin{equation}\n",
    "v = \\displaystyle\\sum_{i=1}^{N} xw^T + b\n",
    "\\end{equation}\n",
    "\n",
    "\\begin{equation}\n",
    "y = \\varphi(v)\n",
    "\\end{equation}\n",
    "\n",
    "donde $𝑥_1,𝑥_2,…,𝑥_𝑚$ son las señales de entrada; $𝑤_1,𝑤_2,…,𝑤_𝑚$ son los pesos sinápticos; $𝑢$ es la combinación lineal de las entradas  ponderadas; $𝑏$ es la polarización; $\\varphi(.)$ es la función de activación; $𝑦$ es la señal de salida de la neurona."
   ]
  },
  {
   "cell_type": "markdown",
   "metadata": {},
   "source": [
    "<a id=\"ref3_2\"></a>\n",
    "<h3>**3.2. Etapa de aprendizaje**</h3>"
   ]
  },
  {
   "cell_type": "markdown",
   "metadata": {},
   "source": [
    "El aprendizaje es un proceso por el cual los parámetros se adaptan, por la interacción continua con el medio ambiente. El tipo de aprendizaje está determinado por la forma en que se realiza dicha adaptación.\n",
    "\n",
    "Este proceso implica la siguiente secuencia de eventos:\n",
    "<ul>\n",
    "<li>La red neuronal es estimulada por el medio ambiente (datos de entrada).</li>\n",
    "<li>La red neuronal ajusta sus parámetros (pessos).</li>\n",
    "<li>La red neuronal genera una respuesta (función de activación).</li>\n",
    "<li>Detenerse hasta que el error sea el minimo aceptable (i.e. 0.01) o en el caso del perceotrón, que todas sus salidas sean iguales a las deseadas.</li>\n",
    "</ul>\n",
    "\n",
    "Los pesos de la red neuronal de la figura se ajustan bajo el siguiente mecanismo:\n",
    "\n",
    "\\begin{equation}\n",
    "w(k+1) = w(k) + e(k)x(k)\\eta\n",
    "\\end{equation}\n",
    "\n",
    "En donde $w$ es la matriz de pesos; $e$ es el error; $x$ es la matriz de entradas; $\\eta$ es la taza de aprendizaje.\n",
    "\n",
    "Para el bias:\n",
    "\n",
    "\\begin{equation}\n",
    "b(k+1) = b(k) + e(k)\\eta\n",
    "\\end{equation}\n",
    "\n",
    "A este mécanismo también se le conoce como <b>filtro adaptativo</b>."
   ]
  },
  {
   "cell_type": "markdown",
   "metadata": {},
   "source": []
  },
  {
   "cell_type": "markdown",
   "metadata": {},
   "source": [
    "<a id=\"ref4\"></a>\n",
    "<h2>**4. Perceptrón**</h2>"
   ]
  },
  {
   "cell_type": "markdown",
   "metadata": {},
   "source": [
    "El perceptrón es la forma más simple de una red neuronal utilizada para la clasificación de patrones <b>linealmente separables</b> (patrones que se localizan en los lados opuestos de un hiperplano).\n",
    "\n",
    "Básicamente consiste en una sola neurona con pesos ajustables y un bias."
   ]
  },
  {
   "cell_type": "markdown",
   "metadata": {},
   "source": [
    "<a id=\"ref4_1\"></a>\n",
    "<h2>**Ejemplo**</h2>"
   ]
  },
  {
   "cell_type": "markdown",
   "metadata": {},
   "source": [
    "A continuación se presenta un ejemplo de una red neurona artificial tipo perceptron la cual tiene como objetivo encontrar una solución a una compuerta lógica AND, es decir, se deben encontrar los pesos que puedan clasificar linealmente los puntos de dicha compuerta.\n",
    "\n",
    "Datos de entrada:\n",
    "\n",
    "\\begin{equation}\n",
    "X = \n",
    " \\begin{pmatrix}\n",
    "  0 & 0\\\\\n",
    "  0 & 1\\\\\n",
    "  1 & 0\\\\\n",
    "  1 & 1\n",
    " \\end{pmatrix}\n",
    "\\end{equation}\n",
    "\n",
    "Vector objetivo:\n",
    "\n",
    "\\begin{equation}\n",
    "t = \n",
    " \\begin{pmatrix}\n",
    "  0\\\\\n",
    "  0\\\\\n",
    "  0\\\\\n",
    "  1\n",
    " \\end{pmatrix}\n",
    "\\end{equation}\n"
   ]
  },
  {
   "cell_type": "code",
   "execution_count": 4,
   "metadata": {},
   "outputs": [],
   "source": [
    "# Import numpy\n",
    "import numpy as np # Numeric library python\n",
    "import matplotlib.pyplot as plt # Plot"
   ]
  },
  {
   "cell_type": "code",
   "execution_count": 5,
   "metadata": {},
   "outputs": [],
   "source": [
    "# Defining constants\n",
    "MAX_EPOCH = 10000\n",
    "ETA=0.05"
   ]
  },
  {
   "cell_type": "code",
   "execution_count": 6,
   "metadata": {},
   "outputs": [],
   "source": [
    "# Activation Function (STEP)\n",
    "def step(v):\n",
    "    if v < 0: return 0,\n",
    "    return 1"
   ]
  },
  {
   "cell_type": "code",
   "execution_count": 7,
   "metadata": {},
   "outputs": [],
   "source": [
    "# Input data X (dataset)\n",
    "x = np.array([[0, 0],\n",
    "              [0, 1],\n",
    "              [1, 0],\n",
    "              [1, 1]])"
   ]
  },
  {
   "cell_type": "code",
   "execution_count": 8,
   "metadata": {},
   "outputs": [],
   "source": [
    "# Target data t\n",
    "t = np.array([[0],\n",
    "              [0],\n",
    "              [0],\n",
    "              [1]])"
   ]
  },
  {
   "cell_type": "code",
   "execution_count": 9,
   "metadata": {},
   "outputs": [],
   "source": [
    "# Weights\n",
    "# Weights are randomly initialized\n",
    "w = np.random.rand(np.size(t[1,:]), np.size(x[1,:]))\n",
    "# Bias\n",
    "b = np.random.rand(1, np.size(t[1,:]))"
   ]
  },
  {
   "cell_type": "code",
   "execution_count": 10,
   "metadata": {},
   "outputs": [
    {
     "name": "stdout",
     "output_type": "stream",
     "text": [
      "Training...\n",
      "Epoch: 13\n",
      "Finished.\n"
     ]
    }
   ],
   "source": [
    "# Training function\n",
    "flag = False\n",
    "epoch = 0\n",
    "\n",
    "print (\"Training...\")\n",
    "while not flag and epoch < MAX_EPOCH:\n",
    "    flag = True\n",
    "    for k in range(0, len(x[:,1])):\n",
    "        v = np.dot(x[k,:], w.T) + b\n",
    "        y = step(v)\n",
    "        e = t[k] - y\n",
    "        if y != t[k]:\n",
    "            w = w + (e * x[k,:] * ETA)\n",
    "            b = b + (e * ETA)\n",
    "            flag = False\n",
    "    epoch += 1\n",
    "print (\"Epoch:\", epoch)\n",
    "print (\"Finished.\")"
   ]
  },
  {
   "cell_type": "code",
   "execution_count": 11,
   "metadata": {},
   "outputs": [
    {
     "name": "stdout",
     "output_type": "stream",
     "text": [
      "\"Statistics\"\n",
      "Learning rate:  0.05 \n",
      "\n",
      "Weights after training..\n",
      "\n",
      "W:\n",
      " [[ 0.39129631  0.10071859]]\n",
      "b:\n",
      " [[-0.47179555]]\n"
     ]
    }
   ],
   "source": [
    "# Show training data\n",
    "print (\"\\\"Statistics\\\"\")\n",
    "print (\"Learning rate: \", ETA, \"\\n\")\n",
    "print (\"Weights after training..\\n\")\n",
    "print (\"W:\\n\", w)\n",
    "print (\"b:\\n\", b)"
   ]
  },
  {
   "cell_type": "code",
   "execution_count": 12,
   "metadata": {},
   "outputs": [
    {
     "name": "stdout",
     "output_type": "stream",
     "text": [
      "\n",
      "\"Simulation\"\n",
      "Target:\n",
      " [[0]\n",
      " [0]\n",
      " [0]\n",
      " [1]]\n",
      "\n",
      "Result:\n",
      "\n",
      "[[ 0.]\n",
      " [ 0.]\n",
      " [ 0.]\n",
      " [ 1.]]\n"
     ]
    }
   ],
   "source": [
    "# Simulation\n",
    "print (\"\\n\\\"Simulation\\\"\")\n",
    "print (\"Target:\\n\", t)\n",
    "print (\"\\nResult:\\n\")\n",
    "res = np.zeros(np.shape(t))\n",
    "for k in range(0, len(x[:,1])):\n",
    "    v = np.dot(x[k,:], w.T) + b\n",
    "    y = step(v)\n",
    "    res[k] = y\n",
    "print (res)"
   ]
  },
  {
   "cell_type": "code",
   "execution_count": 13,
   "metadata": {},
   "outputs": [],
   "source": [
    "# Get two point (P1(x1,y1), P2(x2,y2)) and plot line in the hyperplane\\n\",\n",
    "# Ax + By + C = 0\\n\",\n",
    "weights = w\n",
    "bias = b\n",
    "A = weights[0][0]\n",
    "B = weights[0][1]\n",
    "C = bias[0][0]\n",
    "x1 = np.max(x)+1\n",
    "x2 = np.min(x)-1\n",
    "\n",
    "# In order to find one of the point we have:\\n\",\n",
    "y1 = (-C-A*x1)/B\n",
    "y2 = (-C-A*x2)/B"
   ]
  },
  {
   "cell_type": "code",
   "execution_count": 14,
   "metadata": {},
   "outputs": [
    {
     "data": {
      "image/png": "[encoded data removed]",
      "text/plain": [
       "<matplotlib.figure.Figure at 0x7ff6ff9f14a8>"
      ]
     },
     "metadata": {},
     "output_type": "display_data"
    }
   ],
   "source": [
    "# Plot\n",
    "plt.ylim([x2,x1])\n",
    "plt.xlim([x2,x1])\n",
    "m,n = x.T\n",
    "\n",
    "plt.subplot(121)\n",
    "plt.grid()\n",
    "plt.title('Orignal representation')\n",
    "plt.scatter(m,n)\n",
    "plt.subplot(122)\n",
    "plt.grid()\n",
    "plt.title('Linear separation')\n",
    "plt.scatter(m,n)\n",
    "plt.plot([x1, x2],[y1, y2], '--')\n",
    "plt.show()"
   ]
  },
  {
   "cell_type": "markdown",
   "metadata": {},
   "source": [
    "<a id=\"ref5\"></a>\n",
    "<h2>**5. Backpropagation**</h2>"
   ]
  },
  {
   "cell_type": "markdown",
   "metadata": {},
   "source": [
    "En 1969 Minsky y Papert publicaron su libro Perceptrons: **\"An introduction to computational geometry\"**, el cual significó un gran estancamiento en la teoría de redes neuronales. En él, se presentaba un análisis detallado del Perceptrón, en términos de sus capacidades y limitaciones, en especial en cuanto a las restricciones que existen para los problemas que una red tipo Perceptrón puede resolver. La mayor desventaja de este tipo de redes es su <b>incapacidad para resolver problemas de clasificación que no sean linealmente separables</b>.\n",
    "\n",
    "El Perceptrón multicapa, inicialmente desarrollado por P. Werbos (1974) permite resolver este problema. Posee una estructura con al menos una capa oculta; y su algoritmo de entrenamiento es del tipo corrección de error. Implementa el gradiente distribuido en los diferentes componentes de la red.\n",
    "\n",
    "Las redes neuronales tipo Perceptrón multicapa (<b>MLP</b>), han sido aplicadas satisfactoriamente para resolver muy diversos y difíciles problemas por medio del algoritmo conocido como retropropagación.\n",
    "\n",
    "El algoritmo de retropropagación consta de dos etapas:\n",
    "1. **Etapa hacia adelante.**\n",
    "Parámetros de la red fijos. Se presenta la señal de entrada a la red, que se propaga hacia adelante para producir la salida.\n",
    "2. **Etapa hacia atrás.**\n",
    "El error entre la salida deseada y la red se propaga hacia atrás. Los parámetros de la red se modifican para minimizar el cuadrado de dicho error.\n",
    "\n",
    "El MLP tiene tres características distintivas:\n",
    "<ul>\n",
    "<li><i>El modelo de cada neurona en la red incluye una función de activación no lineal</i>. Lo importante aquí es que la nolinealidad es suave (diferenciable en cualquier punto), lo opuesto a la función signo utilizada en el Perceptrón. Una de las funciones de activación más utilizadas es la logística.</li>\n",
    "\n",
    "<li><i>La red contiene una o más capas ocultas que no son parte de las entradas o las salidas de la red</i>. Estas neuronas ocultas permiten que la red aprenda tareas complejas por la extracción progresiva de las características principales de los patrones de entrada.</li>\n",
    "\n",
    "<li><i>La red presenta altos grados de conectividad, determinados por las sinapsis de la red</i>. La combinación de estas características junto a la habilidad de aprender de la experiencia a través del entrenamiento del MLP da como resultado un\n",
    "gran potencial de computación.</li>\n",
    "</ul>"
   ]
  },
  {
   "cell_type": "markdown",
   "metadata": {},
   "source": [
    "<a id=\"ref5_1\"></a>\n",
    "<h3>**5.1 Etapa hacia adelante (Feedforward)**</h3>"
   ]
  },
  {
   "cell_type": "markdown",
   "metadata": {},
   "source": [
    "Para cada neurona de cada capa se calcula: salida de la capa oculta y salida de la capa de salida.\n",
    "\n",
    "Capa oculta:\n",
    "\n",
    "\\begin{equation}\n",
    "v_h(k)=\\displaystyle\\sum_{k=1}^{N} x(k)W^T_h(k)\n",
    "\\end{equation}\n",
    "\\begin{equation}\n",
    "y_h(k)=\\varphi(v_h(k))\n",
    "\\end{equation}\n",
    "\n",
    "Capa de salida:\n",
    "\n",
    "Se realizan los mismos cálculos para obtener las salidas de las neuronas de salida.\n",
    "\n",
    "\\begin{equation}\n",
    "v_o(k)=y_h(k)W^T_o(k)\n",
    "\\end{equation}\n",
    "\\begin{equation}\n",
    "y_o(k)=\\varphi(v_o(k))\n",
    "\\end{equation}\n",
    "\n",
    "El sub-índice $h$ representa la capa oculta, sub-índice $o$ es la capa de salida y sub-índice $k$ es la iteración para cada patrón de los datos de entrada."
   ]
  },
  {
   "cell_type": "markdown",
   "metadata": {},
   "source": [
    "<a id=\"ref5_2\"></a>\n",
    "<h3>**5.2 Etapa hacia atrás (Backpropagation)**</h3>"
   ]
  },
  {
   "cell_type": "markdown",
   "metadata": {},
   "source": [
    "Ya sabemos que para obtener el error se realiza una diferencia entre el valor deseado $t(k)$ y el valor obtenido $y_o(k)$, sabiendo esto, el propósito de este paso es propagar este error hacia cada una de las capas anteriores hasta llegar a la primera capa, esto debido a que las capas intermedias (capas ocultas) desconocen el valor del error, esto solo lo sabe la capa final ya que esta es la que compara su salida contra el valor deseado.\n",
    "\n",
    "En este contexto, se pueden identificar dos casos distintos, dependiendo de la ubicación de la neurona:\n",
    "\n",
    "**Caso 1.** La neurona es un nodo de salida. Como la neurona está en la salida entonces es posible determinar el valor de e(k) como y consecuentemente el valor del gradiente local se determina directamente de la ecuación.\n",
    "\n",
    "**Caso 2.** La neurona es una neurona oculta. Cuando la neurona se localiza en alguna de las capas ocultas no está disponible el valor deseado para la salida de dicha neurona. Por lo cual la señal de error de dicha neurona se debe determinar de manera recursiva en término de la señal de error de las neuronas de salida.\n",
    "\n",
    "Para esta presentación no se entrará en como obtener la actualización de los pesos, solamente se limitará a mostrar las ecuaciones necesarias para hacerlo.\n",
    "\n",
    "Actualización de pesos para la capa de salida:\n",
    "\n",
    "\\begin{equation}\n",
    "W_o(k+1)=W_o(k)+\\Delta W_o(k)\n",
    "\\end{equation}\n",
    "\\begin{equation}\n",
    "W_o(k+1)=W_o(k)+\\eta \\delta(k)y_h(k)\n",
    "\\end{equation}\n",
    "\n",
    "Actualización de pesos para las capas ocultas:\n",
    "\n",
    "\\begin{equation}\n",
    "W_h(k+1)=W_h(k)+\\Delta W_h(k)\n",
    "\\end{equation}\n",
    "\\begin{equation}\n",
    "W_h(k+1)=W_h(k)+\\eta x(k)\\varphi '(v_h(k)) \\displaystyle\\sum \\delta(k) W_o(k)\n",
    "\\end{equation}\n",
    "\n",
    "Al igual que el perceptrón, estas ecuaciones permitirán actualizar los pesos en relación del error."
   ]
  },
  {
   "cell_type": "markdown",
   "metadata": {},
   "source": [
    "<a id=\"ref5_3\"></a>\n",
    "<h3>**Ejemplo**</h3>"
   ]
  },
  {
   "cell_type": "markdown",
   "metadata": {},
   "source": [
    "Un problema famoso y conocido por la comunidad como un problema no linealmente separable es la resolución de la compuerta lógica XOR, la cual se representa de la siguiente forma:\n",
    "\n",
    "Datos de entrada:\n",
    "\n",
    "\\begin{equation}\n",
    "X = \n",
    " \\begin{pmatrix}\n",
    "  0 & 0\\\\\n",
    "  0 & 1\\\\\n",
    "  1 & 0\\\\\n",
    "  1 & 1\n",
    " \\end{pmatrix}\n",
    "\\end{equation}\n",
    "\n",
    "Vector objetivo:\n",
    "\n",
    "\\begin{equation}\n",
    "t = \n",
    " \\begin{pmatrix}\n",
    "  0\\\\\n",
    "  1\\\\\n",
    "  1\\\\\n",
    "  0\n",
    " \\end{pmatrix}\n",
    "\\end{equation}\n",
    "\n",
    "Gráficamente:"
   ]
  },
  {
   "cell_type": "code",
   "execution_count": 15,
   "metadata": {},
   "outputs": [
    {
     "data": {
      "image/png": "[encoded data removed]",
      "text/plain": [
       "<matplotlib.figure.Figure at 0x7ff6ff7f3c88>"
      ]
     },
     "metadata": {},
     "output_type": "display_data"
    }
   ],
   "source": [
    "import numpy as np\n",
    "import matplotlib.pyplot as plt\n",
    "\n",
    "plt.ylim([-0.5,1.5])\n",
    "plt.xlim([-0.5,1.5])\n",
    "plt.plot(0,0,'bo')\n",
    "plt.plot(0,1,'ro')\n",
    "plt.plot(1,0,'ro')\n",
    "plt.plot(1,1,'bo')\n",
    "plt.grid()\n",
    "plt.show()"
   ]
  },
  {
   "cell_type": "markdown",
   "metadata": {},
   "source": [
    "Supone que, los circulos rojos son la clase 1 y los circulos azules la clase dos. El objetivo consiste en utilizar una linea que permita separar linealmente una clase de la otra en un plano 2D, imposible, ¿Cierto?. Debido a que una sola neurona (por ejemplo, considerando al perceptrón) puede trazar una sola linea recta, le resulta una tarea prácticamente imposible. Para resolver este tipo de problemas se requiere que se trace más de una linea para poder clasificar de forma correcta; a pesar de seguir trazando lineas rectas es posible que utilizando más de una se logre la clasificación. Por ejemplo, observa la siguiente gráfica:"
   ]
  },
  {
   "cell_type": "code",
   "execution_count": 16,
   "metadata": {},
   "outputs": [
    {
     "data": {
      "image/png": "[encoded data removed]",
      "text/plain": [
       "<matplotlib.figure.Figure at 0x7ff6ff757080>"
      ]
     },
     "metadata": {},
     "output_type": "display_data"
    }
   ],
   "source": [
    "import numpy as np\n",
    "import matplotlib.pyplot as plt\n",
    "\n",
    "plt.ylim([-0.5,1.5])\n",
    "plt.xlim([-0.5,1.5])\n",
    "plt.plot(0,0,'bo')\n",
    "plt.plot(0,1,'ro')\n",
    "plt.plot(1,0,'ro')\n",
    "plt.plot(1,1,'bo')\n",
    "plt.plot([-0.5,1],[0.75,-0.5],'--')\n",
    "plt.plot([0.25,1.5],[1.5,0.25],'--')\n",
    "plt.grid()\n",
    "plt.show()"
   ]
  },
  {
   "cell_type": "markdown",
   "metadata": {},
   "source": [
    "A continuación se presenta la implementación en lenguaje Python."
   ]
  },
  {
   "cell_type": "code",
   "execution_count": 17,
   "metadata": {},
   "outputs": [],
   "source": [
    "import numpy as np\n",
    "import matplotlib.pyplot as plt"
   ]
  },
  {
   "cell_type": "code",
   "execution_count": 18,
   "metadata": {},
   "outputs": [],
   "source": [
    "# Define some constants\n",
    "ETA=0.03 # Learning rate\n",
    "LAYERS = 2 # Number of neurons in hidden layer\n",
    "MIN_ERROR = 0.01 # Max allowed error"
   ]
  },
  {
   "cell_type": "code",
   "execution_count": 19,
   "metadata": {},
   "outputs": [],
   "source": [
    "# Define activation function\n",
    "# Activation Function, SIGMOIDE\n",
    "def sigmoid(z):\n",
    "    return 1/(1 + np.exp(-z))\n",
    "\n",
    "# Activation Function, DERIVATIVE SIGMOIDE\n",
    "def d_sigmoid(z):\n",
    "    ds = z * (1 - z)\n",
    "    return ds"
   ]
  },
  {
   "cell_type": "code",
   "execution_count": 20,
   "metadata": {},
   "outputs": [],
   "source": [
    "# Define XOR gate\n",
    "x = np.array([[0, 0],\n",
    "              [0, 1],\n",
    "              [1, 0],\n",
    "              [1, 1]])\n",
    "\n",
    "t = np.array([[0],\n",
    "              [1],\n",
    "              [1],\n",
    "              [0]])"
   ]
  },
  {
   "cell_type": "code",
   "execution_count": 21,
   "metadata": {},
   "outputs": [],
   "source": [
    "# Weights\n",
    "# Hidden layer weights\n",
    "wh = np.random.rand(LAYERS, np.size(x[1,:]))\n",
    "# Output layer weights\n",
    "wo = np.random.rand(1, LAYERS)"
   ]
  },
  {
   "cell_type": "code",
   "execution_count": 22,
   "metadata": {},
   "outputs": [
    {
     "name": "stdout",
     "output_type": "stream",
     "text": [
      "Training... it might take a while, depends of number of neurons set in the hidden layer, the learning rate and the error.\n",
      "\n",
      "Epoch: 173768\n",
      "Finished.\n"
     ]
    }
   ],
   "source": [
    "# Training\n",
    "av_e = 1\n",
    "loss = []\n",
    "epoch = 0\n",
    "print (\"Training... it might take a while, depends of number of neurons set in the hidden layer,\"\n",
    "       \" the learning rate and the error.\\n\")\n",
    "while av_e > MIN_ERROR:\n",
    "    E = np.zeros(np.shape(t))\n",
    "    for k in range(0, len(x[:,1])):\n",
    "        vh = np.dot(x[k,:], wh.T)\n",
    "        yh = sigmoid(vh)\n",
    "        vo = np.dot(yh, wo.T)\n",
    "        yo = sigmoid(vo)\n",
    "        e = t[k] - yo\n",
    "        eo = d_sigmoid(yo) * e\n",
    "        eh = np.multiply(d_sigmoid(yh), eo * wo)\n",
    "        #eh = d_sigmoid(yh) * eo * wo\n",
    "        wo = wo + (eo * yh * ETA)\n",
    "        wh = wh + (eh.T * x[k,:] * ETA)\n",
    "        E[k] = e**2\n",
    "    av_e = np.sum(E)/len(x[:,1])\n",
    "    loss.append(av_e)\n",
    "    epoch += 1\n",
    "print (\"Epoch:\", epoch)\n",
    "print (\"Finished.\")"
   ]
  },
  {
   "cell_type": "code",
   "execution_count": 23,
   "metadata": {},
   "outputs": [
    {
     "name": "stdout",
     "output_type": "stream",
     "text": [
      "\"Statistics\"\n",
      "\n",
      "Learning rate:  0.03\n",
      "Hidden layers:  2\n",
      "Weights after training..\n",
      "\n",
      "Wh:\n",
      " [[ 0.90972296  0.90965143]\n",
      " [ 7.35975713  7.36095746]]\n",
      "Wo:\n",
      " [[-27.8595898   22.07955498]]\n"
     ]
    }
   ],
   "source": [
    "# Show statistic data\n",
    "print (\"\\\"Statistics\\\"\\n\")\n",
    "print (\"Learning rate: \", ETA)\n",
    "print (\"Hidden layers: \", LAYERS)\n",
    "print (\"Weights after training..\\n\")\n",
    "print (\"Wh:\\n\", wh)\n",
    "print (\"Wo:\\n\", wo)"
   ]
  },
  {
   "cell_type": "code",
   "execution_count": 24,
   "metadata": {},
   "outputs": [
    {
     "name": "stdout",
     "output_type": "stream",
     "text": [
      "\n",
      "\"Simulation\"\n",
      "Target:\n",
      " [[0]\n",
      " [1]\n",
      " [1]\n",
      " [0]]\n",
      "\n",
      "Result:\n",
      "\n",
      "[[ 0.05264925]\n",
      " [ 0.90057462]\n",
      " [ 0.90053659]\n",
      " [ 0.13085941]]\n"
     ]
    }
   ],
   "source": [
    "# Simulation\n",
    "print (\"\\n\\\"Simulation\\\"\")\n",
    "print (\"Target:\\n\", t)\n",
    "print (\"\\nResult:\\n\")\n",
    "# Simulation\n",
    "res = np.zeros(np.shape(t))\n",
    "for k in range(0, len(x[:,1])):\n",
    "        vh = np.dot(x[k,:], wh.T)\n",
    "        yh = sigmoid(vh)\n",
    "        vo = np.dot(yh, wo.T)\n",
    "        yo = sigmoid(vo)\n",
    "        res[k] = yo\n",
    "print (res)"
   ]
  },
  {
   "cell_type": "code",
   "execution_count": 25,
   "metadata": {},
   "outputs": [
    {
     "data": {
      "image/png": "[encoded data removed]",
      "text/plain": [
       "<matplotlib.figure.Figure at 0x7ff6ff916fd0>"
      ]
     },
     "metadata": {},
     "output_type": "display_data"
    }
   ],
   "source": [
    "# Loss function\n",
    "plt.title(\"Loss function\")\n",
    "plt.plot(loss)\n",
    "plt.grid()\n",
    "plt.show()"
   ]
  }
 ],
 "metadata": {
  "kernelspec": {
   "display_name": "Python 3",
   "language": "python",
   "name": "python3"
  },
  "language_info": {
   "codemirror_mode": {
    "name": "ipython",
    "version": 3
   },
   "file_extension": ".py",
   "mimetype": "text/x-python",
   "name": "python",
   "nbconvert_exporter": "python",
   "pygments_lexer": "ipython3",
   "version": "3.6.3"
  },
  "widgets": {
   "state": {},
   "version": "1.1.2"
  }
 },
 "nbformat": 4,
 "nbformat_minor": 1
}
