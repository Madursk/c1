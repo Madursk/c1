{
 "cells": [
  {
   "cell_type": "markdown",
   "metadata": {},
   "source": [
    "<script type=\"text/x-mathjax-config\">\n",
    "MathJax.Hub.Config({\n",
    "  TeX: { equationNumbers: { autoNumber: \"all\" } }\n",
    "});\n",
    "</script>\n",
    "\n",
    "<h1 align=center>PERCEPTRÓN</h1>\n",
    "<h3 align=center>19 Febrero 2018</h3>\n",
    "<h4 align=center>Fulano</h4>\n",
    "### Tabla de contenido:\n",
    "\n",
    "<li><p><a href=\"#ref0\">1. Neuróna Biológica</a></p></li>\n",
    "<li><p><a href=\"#ref1\">2. Elementos de una neuróna biológica</a></p></li>\n",
    "<li><p><a href=\"#ref2\">3. Neuróna Artificial</a></p></li>\n",
    "<li><p><a href=\"#ref3\">4. Elementos de una neuróna artificial</a></p></li>\n",
    "<li><p><a href=\"#ref4\">5. Modelo</a></p></li>\n",
    "<li><p><a href=\"#ref5\">6. Modelo matemático</a></p></li>"
   ]
  },
  {
   "cell_type": "markdown",
   "metadata": {},
   "source": [
    "<a id=\"ref0\"></a>\n",
    "<h2>**1. Neuróna Biológica**</h2>"
   ]
  },
  {
   "cell_type": "markdown",
   "metadata": {},
   "source": [
    "Una red neuronal se define como una población de neuronas físicamente interconectadas \n",
    "o un grupo de neuronas aisladas que reciben señales que procesan a la manera de un \n",
    "circuito reconocible.\n",
    "\n",
    "La comunicación entre neuronas, que implica un proceso electroquímico, implica que, \n",
    "una vez que una neurona es excitada a partir de cierto umbral, ésta se despolariza \n",
    "transmitiendo a través de su axón una señal que excita a neuronas aledañas, y así \n",
    "sucesivamente.\n",
    "\n",
    "Las neuronas tienen tres componentes principales: las dendritas, el cuerpo de la célula\n",
    "o soma y el axón.\n",
    "\n",
    "<img src=\"biologica.png\",width=450,height=450 />"
   ]
  },
  {
   "cell_type": "markdown",
   "metadata": {},
   "source": [
    "<a id=\"ref1\"></a>\n",
    "<h2>**2. Elementos de una neuróna biológica**</h2>"
   ]
  },
  {
   "cell_type": "markdown",
   "metadata": {},
   "source": [
    "- **Dendritas.** Elemento receptor; son como fibras nerviosas que cargan de señales eléctricas al cuerpo de la célula; durante el crecimiento aumenta el número de dendritas, pero luego predomina la especialización.\n",
    "- **Soma.** Realiza la suma de esas señales. Incluye el núcleo, es donde principalmente se produce la energía.\n",
    "- **Axón.** Es una fibra larga que lleva la señal desde el cuerpo de la célula hacia otras. El punto de contacto entre el axón de una célula y la dendrita de otra es llamado sinapsis."
   ]
  },
  {
   "cell_type": "markdown",
   "metadata": {},
   "source": [
    "<a id=\"ref2\"></a>\n",
    "<h2>**3. Neuróna Artificial**</h2>"
   ]
  },
  {
   "cell_type": "markdown",
   "metadata": {},
   "source": [
    "El modelo de una neurona artificial es una imitación del proceso de una neurona biológica. Una neurona artificial es la unidad fundamental para la operación de una red neuronal artificial.\n",
    "\n",
    "<img src=\"artificial.png\",width=400,height=400 />"
   ]
  },
  {
   "cell_type": "markdown",
   "metadata": {},
   "source": [
    "<a id=\"ref3\"></a>\n",
    "<h2>**4. Elementos de una neuróna artificial**</h2>"
   ]
  },
  {
   "cell_type": "markdown",
   "metadata": {},
   "source": [
    "Basándose en el modelo biológico, se encuentran las siguientes analogías con el\n",
    "sistema artificial:\n",
    "- **Entradas** $X_i$. Representa las señales provenientes de otras neuronas, captadas por la dendritas.\n",
    "- **Pesos** $W_i$. Representa la intensidad de la sinapsis que conecta dos neuronas. - **Umbral** $\\theta$. Función umbral que la señal de la neurona debe sobrepasar para activarse (ocurre biológicamente en el cuerpo de la célula).\n",
    "- **Salida** $y_i$. Valor de salida de la neurona."
   ]
  },
  {
   "cell_type": "markdown",
   "metadata": {},
   "source": [
    "<a id=\"ref4\"></a>\n",
    "<h2>**5. Modelo**</h2>"
   ]
  },
  {
   "attachments": {},
   "cell_type": "markdown",
   "metadata": {},
   "source": [
    "La neurona es la unidad de proceso de información fundamental en una red neuronal y se pude representar de la siguiente forma:\n",
    "\n",
    "<img src=\"modelo_basico.png\",width=450,height=450 />"
   ]
  },
  {
   "attachments": {},
   "cell_type": "markdown",
   "metadata": {},
   "source": [
    "El modelo se compone de lo siguiente:\n",
    "<br>\n",
    "- **Enlaces de conexión**. Parametrizados por los pesos sinápticos $𝑊_𝑖$. Si $𝑊_𝑖 > 0$ entonces la conexión es excitadora así mismo si $𝑊_𝑖 < 0$ la conexión es inhibidora.\n",
    "- **Sumador**. Suma los componentes de las señales de entrada multiplicadas por $𝑊_𝑖$.\n",
    "- **Función de activación (Umbral)**. Transformación no lineal."
   ]
  },
  {
   "cell_type": "markdown",
   "metadata": {},
   "source": [
    "<a id=\"ref5\"></a>\n",
    "<h2>**5. Modelo matemático**</h2>"
   ]
  },
  {
   "attachments": {},
   "cell_type": "markdown",
   "metadata": {},
   "source": [
    "En términos matemáticos, es posible describir la neurona n de la figura anterior, por el siguiente par de ecuaciones.\n",
    "\n",
    "\\begin{equation}\n",
    "v = \\displaystyle\\sum_{i=1}^{N} xw^T + b\n",
    "\\end{equation}\n",
    "\n",
    "\\begin{equation}\n",
    "y = \\varphi(v)\n",
    "\\end{equation}\n",
    "\n",
    "donde $𝑥_1,𝑥_2,…,𝑥_𝑚$ son las señales de entrada; $𝑤_1,𝑤_2,…,𝑤_𝑚$ son los pesos sinápticos; $𝑢$ es la combinación lineal de las entradas  ponderadas; $𝑏$ es la polarización; $\\varphi(.)$ es la función de activación; $𝑦$ es la señal de salida de la neurona."
   ]
  },
  {
   "cell_type": "code",
   "execution_count": null,
   "metadata": {},
   "outputs": [],
   "source": [
    "# Import numpy\n",
    "import numpy as np # Numeric library python\n",
    "import matplotlib.pyplot as plt # Plot"
   ]
  },
  {
   "cell_type": "code",
   "execution_count": null,
   "metadata": {},
   "outputs": [],
   "source": [
    "# Set imput data\n",
    "x = np.array([[0, 0],\n",
    "              [0, 1],\n",
    "              [1, 0],\n",
    "              [1, 1]])\n",
    "x = np.mat(x) # as matrix. Previously x was numpy array\n",
    "print (\"Input:\\n\", x)"
   ]
  },
  {
   "cell_type": "code",
   "execution_count": null,
   "metadata": {},
   "outputs": [],
   "source": [
    "# Set target data\n",
    "t = np.array([[0],\n",
    "              [0],\n",
    "              [0],\n",
    "              [1]])\n",
    "t = np.mat(t)# as matrix. Previously t was numpy array\n",
    "print (\"Target:\\n\", t)"
   ]
  },
  {
   "cell_type": "code",
   "execution_count": null,
   "metadata": {},
   "outputs": [],
   "source": [
    "# Start random weights\n",
    "w = np.random.rand(np.size(t[1,:]), np.size(x[1,:]))\n",
    "w = np.mat(w)\n",
    "print (\"Weights:\\n\", w)"
   ]
  },
  {
   "cell_type": "code",
   "execution_count": null,
   "metadata": {},
   "outputs": [],
   "source": [
    "# Start random bias\n",
    "b = np.mat(np.random.rand())\n",
    "print (\"Bias:\\n\", b)"
   ]
  },
  {
   "cell_type": "code",
   "execution_count": null,
   "metadata": {},
   "outputs": [],
   "source": [
    "# Function activation STEP\n",
    "# if output >= 0 then 1 otherwise 0\n",
    "def step(v):\n",
    "    if v < 0: return 0\n",
    "    return 1"
   ]
  },
  {
   "cell_type": "code",
   "execution_count": null,
   "metadata": {},
   "outputs": [],
   "source": [
    "# Max epochs since we don't want to loop for ever!\n",
    "MAX_EPOCH = 10000\n",
    "# eta (learning rate)\n",
    "ETA=0.05\n",
    "\n",
    "# Training\n",
    "flag = False\n",
    "epoch = 0\n",
    "# Iterate until all current inputs are equals to target\n",
    "while not flag and epoch < MAX_EPOCH:\n",
    "    flag = True\n",
    "    for i in range(0, len(x[:,1])):\n",
    "        v = x[i,:] * np.transpose(w) + b # (1) o = X*W^T + b\n",
    "        y = step(v) # (2) y = step(o) (output)\n",
    "        e = t[i] - y # (3) e = y - t (local error)\n",
    "        if y != t[i]:\n",
    "            w = w + (e * ETA * x[i,:]) # (4) w(k+1) = w(k) + e(k)*ETA*x(k)\n",
    "            b = b + (e * ETA) # (5) b(k+1) = b(k) + e*ETA\n",
    "            flag = False\n",
    "    epoch += 1"
   ]
  },
  {
   "cell_type": "code",
   "execution_count": null,
   "metadata": {},
   "outputs": [],
   "source": [
    "print (\"\\\"Statistics\\\"\")\n",
    "print (\"Weights after training..\\n\")\n",
    "print (\"W:\\n\", w)\n",
    "print (\"b:\\n\", b)"
   ]
  },
  {
   "cell_type": "code",
   "execution_count": null,
   "metadata": {},
   "outputs": [],
   "source": [
    "# Get two point to plot the hyperplane\n",
    "# Ax + By + C = 0\n",
    "weights = np.asarray(w)\n",
    "bias = np.asarray(b)\n",
    "A = weights[0][0]\n",
    "B = weights[0][1]\n",
    "C = bias[0][0]\n",
    "x1 = -0.1\n",
    "x2 = 1.1\n",
    "\n",
    "print(\"A:\", A)\n",
    "print(\"B:\", B)\n",
    "print(\"C:\", C)\n",
    "# In order to find one of the point we have:\n",
    "y1 = (-C-A*x1)/B\n",
    "y2 = (-C-A*x2)/B\n"
   ]
  },
  {
   "cell_type": "code",
   "execution_count": null,
   "metadata": {},
   "outputs": [],
   "source": [
    "plt.plot(0, 0,'bo')\n",
    "plt.plot(0, 1,'bo')\n",
    "plt.plot(1, 0,'bo')\n",
    "plt.plot(1, 1,'r*')\n",
    "plt.plot([x1, x2],[y1, y2], 'k--')\n",
    "plt.show()"
   ]
  },
  {
   "cell_type": "code",
   "execution_count": null,
   "metadata": {},
   "outputs": [],
   "source": []
  }
 ],
 "metadata": {
  "kernelspec": {
   "display_name": "Python 3",
   "language": "python",
   "name": "python3"
  },
  "language_info": {
   "codemirror_mode": {
    "name": "ipython",
    "version": 3
   },
   "file_extension": ".py",
   "mimetype": "text/x-python",
   "name": "python",
   "nbconvert_exporter": "python",
   "pygments_lexer": "ipython3",
   "version": "2.7.12"
  },
  "widgets": {
   "state": {},
   "version": "1.1.2"
  }
 },
 "nbformat": 4,
 "nbformat_minor": 1
}
